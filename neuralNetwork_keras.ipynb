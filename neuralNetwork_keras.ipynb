{
  "cells": [
    {
      "cell_type": "code",
      "execution_count": 1,
      "metadata": {
        "id": "DqqsWiX2-Rcp"
      },
      "outputs": [],
      "source": [
        "import matplotlib.pyplot as plt\n",
        "import numpy as np\n",
        "import os\n",
        "import glob as gb\n",
        "import cv2\n",
        "import shutil\n",
        "from tensorflow import keras\n",
        "import tensorflow as tf\n",
        "from keras.layers import Dense, Conv2D, MaxPooling2D, AvgPool2D, Input, Dropout, Flatten, BatchNormalization\n",
        "from keras import layers\n",
        "from keras.models import Sequential, Model\n",
        "from keras.callbacks import ModelCheckpoint, ReduceLROnPlateau, EarlyStopping"
      ]
    },
    {
      "cell_type": "code",
      "execution_count": 2,
      "metadata": {
        "id": "-EKpcj7Y-3Z6",
        "colab": {
          "base_uri": "https://localhost:8080/"
        },
        "outputId": "726241fb-ffba-4037-ca59-3ad1089654e5"
      },
      "outputs": [
        {
          "output_type": "stream",
          "name": "stdout",
          "text": [
            "Drive already mounted at /content/drive; to attempt to forcibly remount, call drive.mount(\"/content/drive\", force_remount=True).\n"
          ]
        }
      ],
      "source": [
        "from google.colab import drive\n",
        "drive.mount('/content/drive')"
      ]
    },
    {
      "cell_type": "code",
      "execution_count": 3,
      "metadata": {
        "id": "8AVcwV_g-pqw"
      },
      "outputs": [],
      "source": [
        "trainpath ='/content/drive/MyDrive/covid19/dataset-covid/train/'\n",
        "testpath='/content/drive/MyDrive/covid19/dataset-covid/test/'\n",
        "Valpath='/content/drive/MyDrive/covid19/dataset-covid/val/'"
      ]
    },
    {
      "cell_type": "code",
      "source": [
        "#preprocessing data set\n",
        "#convert image to RGB\n",
        "#resize Image\n",
        "#label image"
      ],
      "metadata": {
        "id": "diN7x0IulG62"
      },
      "execution_count": null,
      "outputs": []
    },
    {
      "cell_type": "code",
      "source": [
        "#x_train,y_train\n",
        "#due to session crash i will take only 500 image\n",
        "new_size=224    \n",
        "X_train = []\n",
        "y_train = []\n",
        "for folder in  os.listdir(trainpath) : \n",
        "    print( 'folder name is : ', folder)\n",
        "    files = gb.glob(pathname= str( trainpath  + folder + '/*.png'))\n",
        "    print( 'numbers of images in folder are : ', len(files))\n",
        "    count=0\n",
        "    for file in files: \n",
        "        image_class = {'covid': 0, 'Lung-Opacity': 1,'Normal':2,'viral-Pneumonia':3}\n",
        "        orignal_image = cv2.imread(file)\n",
        "        image = cv2.cvtColor(orignal_image, cv2.COLOR_BGR2RGB)\n",
        "        resized_image = cv2.resize(image , (new_size,new_size))\n",
        "        X_train.append(resized_image)\n",
        "        y_train.append(image_class[folder])\n",
        "        count=count+1\n",
        "        if(count==300):\n",
        "          break\n",
        "\n",
        "print(\"X_train:       \",len(X_train) ) \n",
        "print(\"y_train:       \",len(y_train) ) "
      ],
      "metadata": {
        "colab": {
          "base_uri": "https://localhost:8080/"
        },
        "id": "gv0Ki71Bc10T",
        "outputId": "a9cc465a-0fc0-446d-8430-dd939a499e2f"
      },
      "execution_count": 4,
      "outputs": [
        {
          "output_type": "stream",
          "name": "stdout",
          "text": [
            "folder name is :  covid\n",
            "numbers of images in folder are :  2531\n",
            "folder name is :  Lung-Opacity\n",
            "numbers of images in folder are :  4208\n",
            "folder name is :  Normal\n",
            "numbers of images in folder are :  1508\n",
            "folder name is :  viral-Pneumonia\n",
            "numbers of images in folder are :  941\n",
            "X_train:        1200\n",
            "y_train:        1200\n"
          ]
        }
      ]
    },
    {
      "cell_type": "code",
      "execution_count": 5,
      "metadata": {
        "colab": {
          "base_uri": "https://localhost:8080/"
        },
        "id": "juK_x7vXI791",
        "outputId": "48e107ed-2753-4cf7-b31e-774acc3152c9"
      },
      "outputs": [
        {
          "output_type": "stream",
          "name": "stdout",
          "text": [
            "folder name is :  covid\n",
            "numbers of images in folder are :  724\n",
            "folder name is :  Lung-Opacity\n",
            "numbers of images in folder are :  1203\n",
            "folder name is :  Normal\n",
            "numbers of images in folder are :  2039\n",
            "folder name is :  viral-Pneumonia\n",
            "numbers of images in folder are :  270\n",
            "X_test:        400\n",
            "y_test:        400\n"
          ]
        }
      ],
      "source": [
        "#300\n",
        "#x_test,y_test\n",
        "new_size=224    \n",
        "X_test = []\n",
        "y_test = []\n",
        "for folder in  os.listdir(testpath) : \n",
        "    print( 'folder name is : ', folder)\n",
        "    files = gb.glob(pathname= str( testpath  + folder + '/*.png'))\n",
        "    print( 'numbers of images in folder are : ', len(files))\n",
        "    count=0\n",
        "    for file in files: \n",
        "        image_class = {'covid': 0, 'Lung-Opacity': 1,'Normal':2,'viral-Pneumonia':3}\n",
        "        orignal_image = cv2.imread(file)\n",
        "        image = cv2.cvtColor(orignal_image, cv2.COLOR_BGR2RGB)\n",
        "        resized_image = cv2.resize(image , (new_size,new_size))\n",
        "        X_test.append(resized_image)\n",
        "        y_test.append(image_class[folder])\n",
        "        count=count+1\n",
        "        if(count==100):\n",
        "          break\n",
        "\n",
        "print(\"X_test:       \",len(X_test) ) \n",
        "print(\"y_test:       \",len(y_test) ) "
      ]
    },
    {
      "cell_type": "code",
      "execution_count": 6,
      "metadata": {
        "colab": {
          "base_uri": "https://localhost:8080/"
        },
        "id": "mGhvKFsVIxtA",
        "outputId": "ff2b4787-eaeb-44f3-967d-0b7dbdfbbe81"
      },
      "outputs": [
        {
          "output_type": "stream",
          "name": "stdout",
          "text": [
            "folder name is :  covid\n",
            "numbers of images in folder are :  361\n",
            "folder name is :  Lung-Opacity\n",
            "numbers of images in folder are :  601\n",
            "folder name is :  Normal\n",
            "numbers of images in folder are :  1019\n",
            "folder name is :  viral-Pneumonia\n",
            "numbers of images in folder are :  134\n",
            "X_val is:        734\n",
            "y_val is:        734\n"
          ]
        }
      ],
      "source": [
        "#x_validation ,y_validation\n",
        "#200\n",
        "new_size=224    \n",
        "X_val = []\n",
        "y_val = []\n",
        "for folder in  os.listdir(Valpath ) : \n",
        "    print( 'folder name is : ', folder)\n",
        "    files = gb.glob(pathname= str( Valpath  + folder + '/*.png'))\n",
        "    print( 'numbers of images in folder are : ', len(files))\n",
        "    count=0\n",
        "    for file in files: \n",
        "        image_class = {'covid': 0, 'Lung-Opacity': 1,'Normal':2,'viral-Pneumonia':3}\n",
        "        orignal_image = cv2.imread(file)\n",
        "        image = cv2.cvtColor(orignal_image, cv2.COLOR_BGR2RGB)\n",
        "        resized_image = cv2.resize(image , (new_size,new_size))\n",
        "        X_val.append(list(resized_image))\n",
        "        y_val.append(image_class[folder])\n",
        "        count=count+1\n",
        "        if(count==200):\n",
        "          break\n",
        "print(\"X_val is:       \",len(X_val) ) \n",
        "print(\"y_val is:       \",len(y_val))"
      ]
    },
    {
      "cell_type": "code",
      "execution_count": 7,
      "metadata": {
        "id": "pHk6AqYNLO9Y"
      },
      "outputs": [],
      "source": [
        "#convert to numpy array\n",
        "X_train = np.array(X_train)\n",
        "y_train = np.array(y_train)\n",
        "X_val = np.array(X_val)\n",
        "y_val = np.array(y_val)\n",
        "X_test = np.array(X_test)\n",
        "y_test = np.array(y_test)"
      ]
    },
    {
      "cell_type": "code",
      "execution_count": 8,
      "metadata": {
        "id": "N25vW0LvLRfa"
      },
      "outputs": [],
      "source": [
        "#using categorical method\n",
        "from tensorflow.keras.utils import to_categorical\n",
        "y_train = to_categorical(y_train,4)\n",
        "y_val = to_categorical(y_val,4)\n",
        "y_test = to_categorical(y_test,4)"
      ]
    },
    {
      "cell_type": "code",
      "execution_count": 9,
      "metadata": {
        "id": "qgG8KkTlLbAd"
      },
      "outputs": [],
      "source": [
        "#shuffel data\n",
        "from sklearn.utils import shuffle\n",
        "X_train,y_train = shuffle(X_train,y_train)\n",
        "X_val,y_val = shuffle(X_val,y_val)\n",
        "X_test,y_test = shuffle(X_test,y_test)"
      ]
    },
    {
      "cell_type": "code",
      "execution_count": 10,
      "metadata": {
        "id": "zcoJARtoLeCh"
      },
      "outputs": [],
      "source": [
        "#last step using normalization\n",
        "X_train=X_train/255.0\n",
        "X_val=X_val/255.0\n",
        "X_test=X_test/255.0"
      ]
    },
    {
      "cell_type": "code",
      "source": [
        "#ANN"
      ],
      "metadata": {
        "id": "BdEIrQ0DiHfV"
      },
      "execution_count": null,
      "outputs": []
    },
    {
      "cell_type": "code",
      "source": [
        "model =Sequential([\n",
        "        layers.Flatten(input_shape=(224,224,3)),\n",
        "        layers.Dense(1024, activation='relu'),\n",
        "        layers.Dense(512, activation='relu'),\n",
        "        layers.Dense(4, activation='softmax')    \n",
        "    ])"
      ],
      "metadata": {
        "id": "HN1dZwsBA-0o"
      },
      "execution_count": 13,
      "outputs": []
    },
    {
      "cell_type": "code",
      "source": [
        "model.summary()"
      ],
      "metadata": {
        "colab": {
          "base_uri": "https://localhost:8080/"
        },
        "id": "Yrqj6l17EeES",
        "outputId": "9810f7cb-f785-43b3-fa03-2ffd90488aee"
      },
      "execution_count": 14,
      "outputs": [
        {
          "output_type": "stream",
          "name": "stdout",
          "text": [
            "Model: \"sequential_1\"\n",
            "_________________________________________________________________\n",
            " Layer (type)                Output Shape              Param #   \n",
            "=================================================================\n",
            " flatten_1 (Flatten)         (None, 150528)            0         \n",
            "                                                                 \n",
            " dense_3 (Dense)             (None, 1024)              154141696 \n",
            "                                                                 \n",
            " dense_4 (Dense)             (None, 512)               524800    \n",
            "                                                                 \n",
            " dense_5 (Dense)             (None, 4)                 2052      \n",
            "                                                                 \n",
            "=================================================================\n",
            "Total params: 154,668,548\n",
            "Trainable params: 154,668,548\n",
            "Non-trainable params: 0\n",
            "_________________________________________________________________\n"
          ]
        }
      ]
    },
    {
      "cell_type": "code",
      "source": [
        "#train last layer\n",
        "model.compile(loss='categorical_crossentropy',optimizer='adam',metrics=['accuracy'])\n",
        "epochs = 100\n",
        "earlystop = EarlyStopping(\"val_accuracy\", patience=30, verbose=1, restore_best_weights=True,)\n",
        "history = model.fit(X_train,y_train,validation_data=(X_val,y_val),epochs=epochs,callbacks=[earlystop])"
      ],
      "metadata": {
        "colab": {
          "base_uri": "https://localhost:8080/"
        },
        "id": "n5Waa6lOmk_P",
        "outputId": "7caf6ee4-e772-4aea-9d67-ac1e041ecc5b"
      },
      "execution_count": 15,
      "outputs": [
        {
          "output_type": "stream",
          "name": "stdout",
          "text": [
            "Epoch 1/100\n",
            "38/38 [==============================] - 6s 102ms/step - loss: 63.1812 - accuracy: 0.3717 - val_loss: 10.8728 - val_accuracy: 0.4237\n",
            "Epoch 2/100\n",
            "38/38 [==============================] - 2s 59ms/step - loss: 4.0627 - accuracy: 0.5633 - val_loss: 3.4771 - val_accuracy: 0.5300\n",
            "Epoch 3/100\n",
            "38/38 [==============================] - 2s 49ms/step - loss: 1.8585 - accuracy: 0.6067 - val_loss: 2.3670 - val_accuracy: 0.5000\n",
            "Epoch 4/100\n",
            "38/38 [==============================] - 2s 58ms/step - loss: 0.9819 - accuracy: 0.6708 - val_loss: 1.6064 - val_accuracy: 0.5518\n",
            "Epoch 5/100\n",
            "38/38 [==============================] - 2s 50ms/step - loss: 1.0750 - accuracy: 0.6542 - val_loss: 1.9949 - val_accuracy: 0.5014\n",
            "Epoch 6/100\n",
            "38/38 [==============================] - 2s 49ms/step - loss: 1.2051 - accuracy: 0.6442 - val_loss: 2.8551 - val_accuracy: 0.4918\n",
            "Epoch 7/100\n",
            "38/38 [==============================] - 2s 58ms/step - loss: 0.9233 - accuracy: 0.6750 - val_loss: 1.5195 - val_accuracy: 0.6444\n",
            "Epoch 8/100\n",
            "38/38 [==============================] - 2s 50ms/step - loss: 0.7268 - accuracy: 0.7225 - val_loss: 1.8367 - val_accuracy: 0.4918\n",
            "Epoch 9/100\n",
            "38/38 [==============================] - 2s 50ms/step - loss: 0.7607 - accuracy: 0.6950 - val_loss: 1.2842 - val_accuracy: 0.6322\n",
            "Epoch 10/100\n",
            "38/38 [==============================] - 2s 50ms/step - loss: 0.6126 - accuracy: 0.7467 - val_loss: 1.4945 - val_accuracy: 0.5708\n",
            "Epoch 11/100\n",
            "38/38 [==============================] - 2s 49ms/step - loss: 0.5953 - accuracy: 0.7583 - val_loss: 1.4693 - val_accuracy: 0.5722\n",
            "Epoch 12/100\n",
            "38/38 [==============================] - 2s 58ms/step - loss: 0.6050 - accuracy: 0.7667 - val_loss: 1.4317 - val_accuracy: 0.6526\n",
            "Epoch 13/100\n",
            "38/38 [==============================] - 2s 50ms/step - loss: 0.6029 - accuracy: 0.7508 - val_loss: 1.2756 - val_accuracy: 0.6104\n",
            "Epoch 14/100\n",
            "38/38 [==============================] - 2s 50ms/step - loss: 0.6796 - accuracy: 0.7250 - val_loss: 1.6267 - val_accuracy: 0.5722\n",
            "Epoch 15/100\n",
            "38/38 [==============================] - 2s 50ms/step - loss: 0.6473 - accuracy: 0.7358 - val_loss: 1.7025 - val_accuracy: 0.6362\n",
            "Epoch 16/100\n",
            "38/38 [==============================] - 2s 52ms/step - loss: 0.5304 - accuracy: 0.7742 - val_loss: 1.6167 - val_accuracy: 0.6063\n",
            "Epoch 17/100\n",
            "38/38 [==============================] - 2s 54ms/step - loss: 0.5761 - accuracy: 0.7783 - val_loss: 1.8371 - val_accuracy: 0.5872\n",
            "Epoch 18/100\n",
            "38/38 [==============================] - 2s 51ms/step - loss: 0.5695 - accuracy: 0.7650 - val_loss: 1.6887 - val_accuracy: 0.6158\n",
            "Epoch 19/100\n",
            "38/38 [==============================] - 2s 49ms/step - loss: 0.5649 - accuracy: 0.7858 - val_loss: 2.2739 - val_accuracy: 0.5163\n",
            "Epoch 20/100\n",
            "38/38 [==============================] - 2s 50ms/step - loss: 0.7288 - accuracy: 0.7250 - val_loss: 1.8676 - val_accuracy: 0.5109\n",
            "Epoch 21/100\n",
            "38/38 [==============================] - 2s 51ms/step - loss: 0.7738 - accuracy: 0.7050 - val_loss: 1.6077 - val_accuracy: 0.6376\n",
            "Epoch 22/100\n",
            "38/38 [==============================] - 2s 50ms/step - loss: 0.6712 - accuracy: 0.7467 - val_loss: 1.3326 - val_accuracy: 0.6172\n",
            "Epoch 23/100\n",
            "38/38 [==============================] - 2s 50ms/step - loss: 0.6054 - accuracy: 0.7483 - val_loss: 1.8614 - val_accuracy: 0.5232\n",
            "Epoch 24/100\n",
            "38/38 [==============================] - 2s 50ms/step - loss: 0.5993 - accuracy: 0.7525 - val_loss: 1.5107 - val_accuracy: 0.5599\n",
            "Epoch 25/100\n",
            "38/38 [==============================] - 2s 50ms/step - loss: 0.5323 - accuracy: 0.7917 - val_loss: 1.5109 - val_accuracy: 0.6158\n",
            "Epoch 26/100\n",
            "38/38 [==============================] - 2s 50ms/step - loss: 0.4909 - accuracy: 0.8067 - val_loss: 2.1975 - val_accuracy: 0.5559\n",
            "Epoch 27/100\n",
            "38/38 [==============================] - 2s 49ms/step - loss: 0.5411 - accuracy: 0.7708 - val_loss: 1.6638 - val_accuracy: 0.6144\n",
            "Epoch 28/100\n",
            "38/38 [==============================] - 2s 49ms/step - loss: 0.6461 - accuracy: 0.7408 - val_loss: 1.9493 - val_accuracy: 0.5531\n",
            "Epoch 29/100\n",
            "38/38 [==============================] - 2s 50ms/step - loss: 0.6233 - accuracy: 0.7533 - val_loss: 1.4695 - val_accuracy: 0.5450\n",
            "Epoch 30/100\n",
            "38/38 [==============================] - 2s 57ms/step - loss: 0.5175 - accuracy: 0.7942 - val_loss: 1.7340 - val_accuracy: 0.6540\n",
            "Epoch 31/100\n",
            "38/38 [==============================] - 2s 49ms/step - loss: 0.5289 - accuracy: 0.7875 - val_loss: 1.9123 - val_accuracy: 0.5886\n",
            "Epoch 32/100\n",
            "38/38 [==============================] - 2s 50ms/step - loss: 0.4806 - accuracy: 0.8175 - val_loss: 1.3903 - val_accuracy: 0.6117\n",
            "Epoch 33/100\n",
            "38/38 [==============================] - 2s 49ms/step - loss: 0.4621 - accuracy: 0.8267 - val_loss: 2.6522 - val_accuracy: 0.5123\n",
            "Epoch 34/100\n",
            "38/38 [==============================] - 2s 50ms/step - loss: 0.5194 - accuracy: 0.7950 - val_loss: 1.7776 - val_accuracy: 0.6008\n",
            "Epoch 35/100\n",
            "38/38 [==============================] - 2s 50ms/step - loss: 0.5739 - accuracy: 0.7717 - val_loss: 1.5634 - val_accuracy: 0.5668\n",
            "Epoch 36/100\n",
            "38/38 [==============================] - 2s 50ms/step - loss: 0.6862 - accuracy: 0.7333 - val_loss: 1.4947 - val_accuracy: 0.5531\n",
            "Epoch 37/100\n",
            "38/38 [==============================] - 2s 50ms/step - loss: 0.6570 - accuracy: 0.7500 - val_loss: 1.5560 - val_accuracy: 0.5763\n",
            "Epoch 38/100\n",
            "38/38 [==============================] - 2s 50ms/step - loss: 0.5816 - accuracy: 0.7692 - val_loss: 1.4941 - val_accuracy: 0.6158\n",
            "Epoch 39/100\n",
            "38/38 [==============================] - 2s 49ms/step - loss: 0.4819 - accuracy: 0.8275 - val_loss: 1.9393 - val_accuracy: 0.5845\n",
            "Epoch 40/100\n",
            "38/38 [==============================] - 3s 67ms/step - loss: 0.4303 - accuracy: 0.8242 - val_loss: 1.4021 - val_accuracy: 0.6594\n",
            "Epoch 41/100\n",
            "38/38 [==============================] - 2s 59ms/step - loss: 0.3771 - accuracy: 0.8433 - val_loss: 1.5764 - val_accuracy: 0.6213\n",
            "Epoch 42/100\n",
            "38/38 [==============================] - 2s 50ms/step - loss: 0.4668 - accuracy: 0.8125 - val_loss: 1.7569 - val_accuracy: 0.5586\n",
            "Epoch 43/100\n",
            "38/38 [==============================] - 2s 50ms/step - loss: 0.5486 - accuracy: 0.7808 - val_loss: 1.5644 - val_accuracy: 0.5245\n",
            "Epoch 44/100\n",
            "38/38 [==============================] - 2s 50ms/step - loss: 0.6281 - accuracy: 0.7367 - val_loss: 2.4034 - val_accuracy: 0.4918\n",
            "Epoch 45/100\n",
            "38/38 [==============================] - 2s 49ms/step - loss: 0.6370 - accuracy: 0.7233 - val_loss: 1.2805 - val_accuracy: 0.6172\n",
            "Epoch 46/100\n",
            "38/38 [==============================] - 2s 49ms/step - loss: 0.5178 - accuracy: 0.7892 - val_loss: 1.5333 - val_accuracy: 0.5995\n",
            "Epoch 47/100\n",
            "38/38 [==============================] - 2s 49ms/step - loss: 0.4863 - accuracy: 0.8017 - val_loss: 2.0513 - val_accuracy: 0.6267\n",
            "Epoch 48/100\n",
            "38/38 [==============================] - 2s 50ms/step - loss: 0.4593 - accuracy: 0.8142 - val_loss: 1.8951 - val_accuracy: 0.5899\n",
            "Epoch 49/100\n",
            "38/38 [==============================] - 2s 50ms/step - loss: 0.3835 - accuracy: 0.8342 - val_loss: 2.1106 - val_accuracy: 0.5858\n",
            "Epoch 50/100\n",
            "38/38 [==============================] - 2s 50ms/step - loss: 0.4810 - accuracy: 0.8050 - val_loss: 2.1203 - val_accuracy: 0.5967\n",
            "Epoch 51/100\n",
            "38/38 [==============================] - 2s 49ms/step - loss: 0.3381 - accuracy: 0.8650 - val_loss: 2.1428 - val_accuracy: 0.6322\n",
            "Epoch 52/100\n",
            "38/38 [==============================] - 2s 49ms/step - loss: 0.3906 - accuracy: 0.8433 - val_loss: 1.6420 - val_accuracy: 0.6281\n",
            "Epoch 53/100\n",
            "38/38 [==============================] - 2s 49ms/step - loss: 0.4137 - accuracy: 0.8392 - val_loss: 2.6371 - val_accuracy: 0.5450\n",
            "Epoch 54/100\n",
            "38/38 [==============================] - 2s 49ms/step - loss: 0.5377 - accuracy: 0.7933 - val_loss: 1.8127 - val_accuracy: 0.6131\n",
            "Epoch 55/100\n",
            "38/38 [==============================] - 2s 49ms/step - loss: 0.4429 - accuracy: 0.8117 - val_loss: 2.0156 - val_accuracy: 0.5763\n",
            "Epoch 56/100\n",
            "38/38 [==============================] - 2s 49ms/step - loss: 0.4123 - accuracy: 0.8350 - val_loss: 2.2098 - val_accuracy: 0.6580\n",
            "Epoch 57/100\n",
            "38/38 [==============================] - 2s 50ms/step - loss: 0.3478 - accuracy: 0.8575 - val_loss: 1.9975 - val_accuracy: 0.6240\n",
            "Epoch 58/100\n",
            "38/38 [==============================] - 2s 50ms/step - loss: 0.4079 - accuracy: 0.8450 - val_loss: 2.1008 - val_accuracy: 0.5681\n",
            "Epoch 59/100\n",
            "38/38 [==============================] - 2s 50ms/step - loss: 0.4348 - accuracy: 0.8233 - val_loss: 2.1890 - val_accuracy: 0.6540\n",
            "Epoch 60/100\n",
            "38/38 [==============================] - 2s 49ms/step - loss: 0.3137 - accuracy: 0.8725 - val_loss: 1.9612 - val_accuracy: 0.6431\n",
            "Epoch 61/100\n",
            "38/38 [==============================] - 2s 49ms/step - loss: 0.2945 - accuracy: 0.8883 - val_loss: 2.3444 - val_accuracy: 0.6267\n",
            "Epoch 62/100\n",
            "38/38 [==============================] - 2s 58ms/step - loss: 0.3034 - accuracy: 0.8725 - val_loss: 2.1064 - val_accuracy: 0.6689\n",
            "Epoch 63/100\n",
            "38/38 [==============================] - 2s 49ms/step - loss: 0.2748 - accuracy: 0.8892 - val_loss: 2.2740 - val_accuracy: 0.6567\n",
            "Epoch 64/100\n",
            "38/38 [==============================] - 2s 49ms/step - loss: 0.2966 - accuracy: 0.8900 - val_loss: 2.0618 - val_accuracy: 0.6676\n",
            "Epoch 65/100\n",
            "38/38 [==============================] - 2s 49ms/step - loss: 0.2798 - accuracy: 0.8933 - val_loss: 1.9900 - val_accuracy: 0.6022\n",
            "Epoch 66/100\n",
            "38/38 [==============================] - 2s 50ms/step - loss: 0.3225 - accuracy: 0.8733 - val_loss: 2.5157 - val_accuracy: 0.5886\n",
            "Epoch 67/100\n",
            "38/38 [==============================] - 2s 50ms/step - loss: 0.4422 - accuracy: 0.8142 - val_loss: 2.3310 - val_accuracy: 0.6199\n",
            "Epoch 68/100\n",
            "38/38 [==============================] - 2s 59ms/step - loss: 0.3929 - accuracy: 0.8417 - val_loss: 1.9080 - val_accuracy: 0.6744\n",
            "Epoch 69/100\n",
            "38/38 [==============================] - 2s 50ms/step - loss: 0.2922 - accuracy: 0.8908 - val_loss: 2.0680 - val_accuracy: 0.6471\n",
            "Epoch 70/100\n",
            "38/38 [==============================] - 2s 49ms/step - loss: 0.3307 - accuracy: 0.8683 - val_loss: 2.5362 - val_accuracy: 0.6131\n",
            "Epoch 71/100\n",
            "38/38 [==============================] - 2s 50ms/step - loss: 0.3362 - accuracy: 0.8625 - val_loss: 2.1570 - val_accuracy: 0.5763\n",
            "Epoch 72/100\n",
            "38/38 [==============================] - 2s 50ms/step - loss: 0.3568 - accuracy: 0.8567 - val_loss: 1.9960 - val_accuracy: 0.6294\n",
            "Epoch 73/100\n",
            "38/38 [==============================] - 2s 50ms/step - loss: 0.3388 - accuracy: 0.8625 - val_loss: 2.3022 - val_accuracy: 0.6117\n",
            "Epoch 74/100\n",
            "38/38 [==============================] - 2s 49ms/step - loss: 0.3503 - accuracy: 0.8583 - val_loss: 2.1746 - val_accuracy: 0.6104\n",
            "Epoch 75/100\n",
            "38/38 [==============================] - 2s 50ms/step - loss: 0.2802 - accuracy: 0.8933 - val_loss: 2.3600 - val_accuracy: 0.6240\n",
            "Epoch 76/100\n",
            "38/38 [==============================] - 2s 50ms/step - loss: 0.2624 - accuracy: 0.8942 - val_loss: 2.3914 - val_accuracy: 0.5995\n",
            "Epoch 77/100\n",
            "38/38 [==============================] - 2s 50ms/step - loss: 0.2676 - accuracy: 0.8992 - val_loss: 2.6914 - val_accuracy: 0.5354\n",
            "Epoch 78/100\n",
            "38/38 [==============================] - 2s 49ms/step - loss: 0.4740 - accuracy: 0.8225 - val_loss: 2.1440 - val_accuracy: 0.5191\n",
            "Epoch 79/100\n",
            "38/38 [==============================] - 2s 48ms/step - loss: 0.8559 - accuracy: 0.6958 - val_loss: 2.5539 - val_accuracy: 0.5504\n",
            "Epoch 80/100\n",
            "38/38 [==============================] - 2s 49ms/step - loss: 0.5972 - accuracy: 0.7800 - val_loss: 1.3481 - val_accuracy: 0.6158\n",
            "Epoch 81/100\n",
            "38/38 [==============================] - 2s 49ms/step - loss: 0.4773 - accuracy: 0.8150 - val_loss: 2.0019 - val_accuracy: 0.5967\n",
            "Epoch 82/100\n",
            "38/38 [==============================] - 2s 49ms/step - loss: 0.4367 - accuracy: 0.8342 - val_loss: 2.1810 - val_accuracy: 0.6076\n",
            "Epoch 83/100\n",
            "38/38 [==============================] - 2s 49ms/step - loss: 0.5972 - accuracy: 0.7625 - val_loss: 2.3409 - val_accuracy: 0.5545\n",
            "Epoch 84/100\n",
            "38/38 [==============================] - 2s 49ms/step - loss: 0.4813 - accuracy: 0.8167 - val_loss: 2.3335 - val_accuracy: 0.5831\n",
            "Epoch 85/100\n",
            "38/38 [==============================] - 2s 49ms/step - loss: 0.4107 - accuracy: 0.8375 - val_loss: 1.9140 - val_accuracy: 0.6213\n",
            "Epoch 86/100\n",
            "38/38 [==============================] - 2s 50ms/step - loss: 0.4562 - accuracy: 0.8383 - val_loss: 2.0940 - val_accuracy: 0.6022\n",
            "Epoch 87/100\n",
            "38/38 [==============================] - 2s 49ms/step - loss: 0.3717 - accuracy: 0.8575 - val_loss: 2.1189 - val_accuracy: 0.6512\n",
            "Epoch 88/100\n",
            "38/38 [==============================] - 2s 50ms/step - loss: 0.3599 - accuracy: 0.8633 - val_loss: 1.9153 - val_accuracy: 0.6335\n",
            "Epoch 89/100\n",
            "38/38 [==============================] - 2s 49ms/step - loss: 0.6145 - accuracy: 0.7908 - val_loss: 2.0997 - val_accuracy: 0.6076\n",
            "Epoch 90/100\n",
            "38/38 [==============================] - 2s 49ms/step - loss: 0.3731 - accuracy: 0.8733 - val_loss: 1.9914 - val_accuracy: 0.6008\n",
            "Epoch 91/100\n",
            "38/38 [==============================] - 2s 51ms/step - loss: 0.4075 - accuracy: 0.8450 - val_loss: 2.0469 - val_accuracy: 0.6403\n",
            "Epoch 92/100\n",
            "38/38 [==============================] - 2s 54ms/step - loss: 0.3170 - accuracy: 0.8925 - val_loss: 2.3224 - val_accuracy: 0.6063\n",
            "Epoch 93/100\n",
            "38/38 [==============================] - 2s 52ms/step - loss: 0.3745 - accuracy: 0.8608 - val_loss: 2.9438 - val_accuracy: 0.5954\n",
            "Epoch 94/100\n",
            "38/38 [==============================] - 2s 49ms/step - loss: 0.4038 - accuracy: 0.8392 - val_loss: 2.1864 - val_accuracy: 0.6362\n",
            "Epoch 95/100\n",
            "38/38 [==============================] - 2s 49ms/step - loss: 0.3554 - accuracy: 0.8625 - val_loss: 2.7740 - val_accuracy: 0.5559\n",
            "Epoch 96/100\n",
            "38/38 [==============================] - 2s 49ms/step - loss: 0.3226 - accuracy: 0.8883 - val_loss: 2.3297 - val_accuracy: 0.5995\n",
            "Epoch 97/100\n",
            "38/38 [==============================] - 2s 49ms/step - loss: 0.3562 - accuracy: 0.8642 - val_loss: 2.6557 - val_accuracy: 0.6308\n",
            "Epoch 98/100\n",
            "37/38 [============================>.] - ETA: 0s - loss: 0.3476 - accuracy: 0.8758Restoring model weights from the end of the best epoch: 68.\n",
            "38/38 [==============================] - 2s 54ms/step - loss: 0.3458 - accuracy: 0.8767 - val_loss: 2.2682 - val_accuracy: 0.6471\n",
            "Epoch 98: early stopping\n"
          ]
        }
      ]
    },
    {
      "cell_type": "code",
      "source": [
        "model.evaluate(X_test,y_test)"
      ],
      "metadata": {
        "colab": {
          "base_uri": "https://localhost:8080/"
        },
        "id": "AZUuenE2nAlG",
        "outputId": "6f91370f-bdf6-4578-c1ac-0c7d1a7717b1"
      },
      "execution_count": 16,
      "outputs": [
        {
          "output_type": "stream",
          "name": "stdout",
          "text": [
            "13/13 [==============================] - 0s 14ms/step - loss: 1.3844 - accuracy: 0.7375\n"
          ]
        },
        {
          "output_type": "execute_result",
          "data": {
            "text/plain": [
              "[1.3844199180603027, 0.737500011920929]"
            ]
          },
          "metadata": {},
          "execution_count": 16
        }
      ]
    },
    {
      "cell_type": "code",
      "source": [
        "y_test_pred = model.predict(X_test)\n",
        "y_prediction = np.argmax(y_test_pred, axis=1)\n",
        "y_true=np.argmax(y_test, axis=1)"
      ],
      "metadata": {
        "id": "FuaI9ji-nFCe"
      },
      "execution_count": 17,
      "outputs": []
    },
    {
      "cell_type": "code",
      "source": [
        "from sklearn.metrics import classification_report, confusion_matrix\n",
        "cm = confusion_matrix(y_true, y_prediction)\n",
        "cm"
      ],
      "metadata": {
        "colab": {
          "base_uri": "https://localhost:8080/"
        },
        "id": "ksezCEFlnGQa",
        "outputId": "501e69e0-e366-420d-808e-810406de78ad"
      },
      "execution_count": 18,
      "outputs": [
        {
          "output_type": "execute_result",
          "data": {
            "text/plain": [
              "array([[57, 21, 18,  4],\n",
              "       [ 9, 75, 12,  4],\n",
              "       [ 9, 12, 66, 13],\n",
              "       [ 0,  3,  0, 97]])"
            ]
          },
          "metadata": {},
          "execution_count": 18
        }
      ]
    },
    {
      "cell_type": "code",
      "source": [
        "from mlxtend.plotting import plot_confusion_matrix\n",
        "fig, ax = plot_confusion_matrix(conf_mat=cm ,  figsize=(5, 5))\n",
        "plt.show()"
      ],
      "metadata": {
        "colab": {
          "base_uri": "https://localhost:8080/",
          "height": 334
        },
        "id": "DW-5gZERnWDc",
        "outputId": "2d7c0d2f-1501-44d7-ffc9-b4e667f155be"
      },
      "execution_count": 19,
      "outputs": [
        {
          "output_type": "display_data",
          "data": {
            "text/plain": [
              "<Figure size 360x360 with 1 Axes>"
            ],
            "image/png": "[encoded data removed]"
          },
          "metadata": {
            "needs_background": "light"
          }
        }
      ]
    },
    {
      "cell_type": "code",
      "source": [
        "from sklearn.metrics import classification_report\n",
        "print(classification_report(y_true, y_prediction,target_names=list((image_class))))"
      ],
      "metadata": {
        "colab": {
          "base_uri": "https://localhost:8080/"
        },
        "id": "bK53A55_nd6m",
        "outputId": "0c8c336b-2d15-4f37-c697-cb762de699bc"
      },
      "execution_count": 20,
      "outputs": [
        {
          "output_type": "stream",
          "name": "stdout",
          "text": [
            "                 precision    recall  f1-score   support\n",
            "\n",
            "          covid       0.76      0.57      0.65       100\n",
            "   Lung-Opacity       0.68      0.75      0.71       100\n",
            "         Normal       0.69      0.66      0.67       100\n",
            "viral-Pneumonia       0.82      0.97      0.89       100\n",
            "\n",
            "       accuracy                           0.74       400\n",
            "      macro avg       0.74      0.74      0.73       400\n",
            "   weighted avg       0.74      0.74      0.73       400\n",
            "\n"
          ]
        }
      ]
    }
  ],
  "metadata": {
    "accelerator": "GPU",
    "colab": {
      "provenance": [],
      "collapsed_sections": []
    },
    "kernelspec": {
      "display_name": "Python 3",
      "name": "python3"
    },
    "language_info": {
      "name": "python"
    }
  },
  "nbformat": 4,
  "nbformat_minor": 0
}